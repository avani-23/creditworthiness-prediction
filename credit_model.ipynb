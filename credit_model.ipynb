{
 "cells": [
  {
   "cell_type": "code",
   "execution_count": 2,
   "id": "b5ddf9fe-5557-48d1-bdda-24f6ef039faf",
   "metadata": {},
   "outputs": [
    {
     "name": "stdout",
     "output_type": "stream",
     "text": [
      "              precision    recall  f1-score   support\n",
      "\n",
      "           0       0.74      0.53      0.61        59\n",
      "           1       0.82      0.92      0.87       141\n",
      "\n",
      "    accuracy                           0.81       200\n",
      "   macro avg       0.78      0.72      0.74       200\n",
      "weighted avg       0.80      0.81      0.79       200\n",
      "\n",
      "[[ 31  28]\n",
      " [ 11 130]]\n"
     ]
    }
   ],
   "source": [
    "import pandas as pd\n",
    "import numpy as np\n",
    "from sklearn.ensemble import RandomForestClassifier\n",
    "from sklearn.model_selection import train_test_split, GridSearchCV\n",
    "from sklearn.metrics import classification_report, confusion_matrix\n",
    "from sklearn.preprocessing import LabelEncoder\n",
    "import pickle\n",
    "\n",
    "\n",
    "columns = ['Status', 'Duration', 'CreditHistory', 'Purpose', 'CreditAmount', 'Savings', 'Employment',\n",
    "           'InstallmentRate', 'PersonalStatus', 'OtherDebtors', 'ResidenceSince', 'Property', 'Age',\n",
    "           'OtherInstallmentPlans', 'Housing', 'NumberCredits', 'Job', 'PeopleLiable', 'Telephone',\n",
    "           'ForeignWorker', 'Target']\n",
    "df = pd.read_csv(r\"C:\\Users\\avani\\OneDrive\\Desktop\\data\\german.data\", sep=' ', names=columns)\n",
    "\n",
    "df['Target'] = df['Target'].map({1: 1, 2: 0})  # 1 = Good, 2 = Bad\n",
    "\n",
    "cat_cols = df.select_dtypes(include='object').columns\n",
    "le = LabelEncoder()\n",
    "for col in cat_cols:\n",
    "    df[col] = le.fit_transform(df[col])\n",
    "\n",
    "X = df.drop('Target', axis=1)\n",
    "y = df['Target']\n",
    "X_train, X_test, y_train, y_test = train_test_split(X, y, test_size=0.2, random_state=42)\n",
    "\n",
    "\n",
    "model = RandomForestClassifier(n_estimators=100, random_state=42)\n",
    "model.fit(X_train, y_train)\n",
    "\n",
    "\n",
    "y_pred = model.predict(X_test)\n",
    "print(classification_report(y_test, y_pred))\n",
    "print(confusion_matrix(y_test, y_pred))\n",
    "\n",
    "\n",
    "with open('credit_model.pkl', 'wb') as file:\n",
    "    pickle.dump(model, file)\n"
   ]
  },
  {
   "cell_type": "code",
   "execution_count": null,
   "id": "0716d89c-9b68-4ace-8d97-4c4e8ca3aa4a",
   "metadata": {},
   "outputs": [],
   "source": []
  }
 ],
 "metadata": {
  "kernelspec": {
   "display_name": "Python 3 (ipykernel)",
   "language": "python",
   "name": "python3"
  },
  "language_info": {
   "codemirror_mode": {
    "name": "ipython",
    "version": 3
   },
   "file_extension": ".py",
   "mimetype": "text/x-python",
   "name": "python",
   "nbconvert_exporter": "python",
   "pygments_lexer": "ipython3",
   "version": "3.11.13"
  }
 },
 "nbformat": 4,
 "nbformat_minor": 5
}
